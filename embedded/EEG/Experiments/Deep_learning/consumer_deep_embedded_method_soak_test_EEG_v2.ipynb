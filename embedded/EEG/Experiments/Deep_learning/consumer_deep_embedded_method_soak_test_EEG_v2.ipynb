{
 "cells": [
  {
   "cell_type": "markdown",
   "metadata": {},
   "source": [
    "## Custom Packages"
   ]
  },
  {
   "cell_type": "code",
   "execution_count": 1,
   "metadata": {},
   "outputs": [],
   "source": [
    "import os, sys\n",
    "\n",
    "processing_source_path = os.path.abspath('./../../../Processing/')\n",
    "if(processing_source_path not in sys.path):\n",
    "    sys.path.append(processing_source_path)\n",
    "from processing import preprocessing\n",
    "from processing import posprocessing\n",
    "from processing import FeaturesExtract\n",
    "\n",
    "Utils_source_path = os.path.abspath('./../../../Utils/')\n",
    "if(Utils_source_path not in sys.path):\n",
    "    sys.path.append(Utils_source_path)\n",
    "from log_soak_test import soak_test\n",
    "\n",
    "Embedded_source_path = os.path.abspath('./../../../Quantization/functions/')\n",
    "if(Embedded_source_path not in sys.path):\n",
    "    sys.path.append(Embedded_source_path)\n",
    "from Embedded_Model import Embedded_Model"
   ]
  },
  {
   "cell_type": "markdown",
   "metadata": {},
   "source": [
    "## Python Packages"
   ]
  },
  {
   "cell_type": "code",
   "execution_count": 2,
   "metadata": {},
   "outputs": [],
   "source": [
    "#protocol communication liraries\n",
    "import zmq\n",
    "import logging\n",
    "LOG_LEVEL=logging.DEBUG #change to logging.DEBUG to enable print logs\n",
    "ZEROMQ_SOCKET=\"tcp://127.0.0.1:12345\"\n",
    "\n",
    "import numpy as np\n",
    "import time\n",
    "import pickle\n",
    "import matplotlib.pyplot as plt"
   ]
  },
  {
   "cell_type": "markdown",
   "metadata": {},
   "source": [
    "##  EDGE AI Deep learning model"
   ]
  },
  {
   "cell_type": "markdown",
   "metadata": {},
   "source": [
    "#### Signal Processing functions"
   ]
  },
  {
   "cell_type": "code",
   "execution_count": 3,
   "metadata": {},
   "outputs": [],
   "source": [
    "#  EDGE AI pre-definitions\n",
    "pp = preprocessing(axis=1)\n",
    "ppos=posprocessing()"
   ]
  },
  {
   "cell_type": "markdown",
   "metadata": {},
   "source": [
    "#### Params and initial conditions"
   ]
  },
  {
   "cell_type": "code",
   "execution_count": 4,
   "metadata": {},
   "outputs": [],
   "source": [
    "params = {\n",
    "    'dataset_path': '/root/data/data/OpenBMI/',\n",
    "    'channels': ['O1', 'Oz', 'O2', 'PO10', 'PO9', 'POz', 'PO3', 'PO4'],\n",
    "    'freqs': [0, 12.0, 8.57, 6.67, 5.45],\n",
    "    'num_harmonics': 3,\n",
    "    'extracted_frequencies': [4,44],\n",
    "    'sfreq': 1000,\n",
    "    'features_type': 'psd',\n",
    "    'preprocessing': 'log10',\n",
    "    'num_channels': 8,\n",
    "    'num_classes':  5,\n",
    "    'num_samples': 16,\n",
    "    'window_size': 512,\n",
    "    'step': 64,\n",
    "    'num_voting': 5,\n",
    "    'model_name': 'Conv2D_DW_GAP',\n",
    "    'norm_axis': 3\n",
    "}\n",
    "\n",
    "window_EEG= np.random.uniform(0.00001, 0,size=(params['num_channels'],params['window_size']))\n",
    "prep_time=[]\n",
    "AI_time=[]\n",
    "y_AI_array = np.zeros(params['num_voting'])\n",
    "\n",
    "psd_2D = np.zeros((params['num_samples'],\n",
    "                           params['extracted_frequencies'][1]-params['extracted_frequencies'][0],\n",
    "                           params['num_channels']),dtype=float)"
   ]
  },
  {
   "cell_type": "markdown",
   "metadata": {},
   "source": [
    "#### Load the ML model"
   ]
  },
  {
   "cell_type": "code",
   "execution_count": 5,
   "metadata": {},
   "outputs": [
    {
     "name": "stderr",
     "output_type": "stream",
     "text": [
      "INFO: Created TensorFlow Lite XNNPACK delegate for CPU.\n"
     ]
    }
   ],
   "source": [
    "#AI_tf_model=Embedded_Model('./../../keras_quantized_model/Conv2D_DW_GAP')\n",
    "AI_tf_model=Embedded_Model('./../../keras_quantized_model/S1_21_Adam0')\n",
    "\n"
   ]
  },
  {
   "cell_type": "markdown",
   "metadata": {},
   "source": [
    "#### Soak test log settings "
   ]
  },
  {
   "cell_type": "markdown",
   "metadata": {},
   "source": [
    "#### Communication protocol settings"
   ]
  },
  {
   "cell_type": "code",
   "execution_count": 6,
   "metadata": {},
   "outputs": [],
   "source": [
    "context = zmq.Context()\n",
    "subscriber = context.socket(zmq.SUB)\n",
    "subscriber.connect(ZEROMQ_SOCKET)\n",
    "subscriber.setsockopt(zmq.SUBSCRIBE, b\"\")"
   ]
  },
  {
   "cell_type": "markdown",
   "metadata": {},
   "source": [
    "### Main-loop "
   ]
  },
  {
   "cell_type": "markdown",
   "metadata": {},
   "source": [
    "#### Soakt test time settings\n"
   ]
  },
  {
   "cell_type": "code",
   "execution_count": 7,
   "metadata": {},
   "outputs": [],
   "source": [
    "#Acc variables\n",
    "N_correct=0\n",
    "N_interactions=0\n",
    "\n",
    "# log updates time\n",
    "log_update_time= 60 #seconds\n",
    "\n",
    "# soak test total time\n",
    "duration_time= 1 # hour\n",
    "end_time= time.time()+ 60 * 60 * duration_time\n",
    "\n",
    "update_time_duration=time.time()"
   ]
  },
  {
   "cell_type": "code",
   "execution_count": 8,
   "metadata": {},
   "outputs": [],
   "source": [
    "log_name=f'logs/system_monitor_deep_embedded_model_2D_during_{duration_time}_hours_with_noise'\n",
    "ST=soak_test(log_name=log_name)"
   ]
  },
  {
   "cell_type": "markdown",
   "metadata": {},
   "source": [
    "#### AI model in loop"
   ]
  },
  {
   "cell_type": "markdown",
   "metadata": {},
   "source": [
    "#### custom funcitons to 2D deep model "
   ]
  },
  {
   "cell_type": "code",
   "execution_count": 9,
   "metadata": {},
   "outputs": [],
   "source": [
    "import scipy.io\n",
    "from scipy import signal\n",
    "\n",
    "def buffer_data(data, new_batch):\n",
    "    data = np.roll(data,-new_batch.shape[0],axis=0)\n",
    "    data[-new_batch.shape[0]:,:] = new_batch\n",
    "    \n",
    "    return data\n",
    "\n",
    "def buffer_psd(spectra, x_vector):\n",
    "    spectra = np.roll(spectra, -1, axis=0)\n",
    "    spectra[-1,:,:] = x_vector\n",
    "    \n",
    "    return spectra\n",
    "\n",
    "# calculate psd\n",
    "def calculate_psd(data, params):\n",
    "    \n",
    "    # print('fft inputs', eeg.shape,rep,ch,nsteps,WinLength)\n",
    "    \n",
    "    myamp = np.array([])\n",
    "\n",
    "    (f, S)= scipy.signal.welch(data, params['sfreq'], nperseg=None, window = 'box', scaling='spectrum', nfft=int(params['sfreq']), average='median')\n",
    "\n",
    "    amp = np.abs(S)\n",
    "    amp = np.log10(amp[ params['extracted_frequencies'][0]:params['extracted_frequencies'][1]] + sys.float_info.epsilon)\n",
    "        \n",
    "    return amp\n"
   ]
  },
  {
   "cell_type": "code",
   "execution_count": 10,
   "metadata": {},
   "outputs": [],
   "source": [
    "# noise\n",
    "def band_limited_noise(min_freq, max_freq, samples=1024, samplerate=1):\n",
    "    freqs = np.abs(np.fft.fftfreq(samples, 1/samplerate))\n",
    "    f = np.zeros(samples)\n",
    "    idx = np.where(np.logical_and(freqs>=min_freq, freqs<=max_freq))[0]\n",
    "    f[idx] = 1\n",
    "    return fftnoise(f)\n",
    "\n",
    "def fftnoise(f):\n",
    "    f = np.array(f, dtype='complex')\n",
    "    Np = (len(f) - 1) // 2\n",
    "    phases = np.random.rand(Np) * 2 * np.pi\n",
    "    phases = np.cos(phases) + 1j * np.sin(phases)\n",
    "    f[1:Np+1] *= phases\n",
    "    f[-1:-1-Np:-1] = np.conj(f[1:Np+1])\n",
    "    return np.fft.ifft(f).real\n",
    "\n",
    "def create_noise(minimum, maximum,data_len):\n",
    "    x = band_limited_noise(10, 900, data_len, 2048)\n",
    "    x -= np.min(x)\n",
    "    x /= (np.max(x))\n",
    "    x *= (maximum-minimum)\n",
    "    x += minimum\n",
    "    return x\n",
    "max_var=15/10"
   ]
  },
  {
   "cell_type": "markdown",
   "metadata": {},
   "source": [
    "#### Loop"
   ]
  },
  {
   "cell_type": "code",
   "execution_count": null,
   "metadata": {},
   "outputs": [
    {
     "name": "stdout",
     "output_type": "stream",
     "text": [
      "CPU Usage: 4.8% |CPU Temperature: 0°C% | Memory Usage: 30.5% | Used Disk Space: 8949.913243648 Gbytes | Preprocessing Latency: 1.9737157316925134ms | Model Predict Latency: 31.437103255388607ms | Model  accuracy: 0.3628691983122363 %\n",
      "CPU Usage: 1.3% |CPU Temperature: 0°C% | Memory Usage: 30.4% | Used Disk Space: 8950.074638336 Gbytes | Preprocessing Latency: 1.860033815323115ms | Model Predict Latency: 29.161373774210613ms | Model  accuracy: 0.36231884057971014 %\n",
      "CPU Usage: 2.5% |CPU Temperature: 0°C% | Memory Usage: 30.4% | Used Disk Space: 8950.247456768 Gbytes | Preprocessing Latency: 1.9537848750437337ms | Model Predict Latency: 30.46560287475586ms | Model  accuracy: 0.21232876712328766 %\n",
      "CPU Usage: 3.0% |CPU Temperature: 0°C% | Memory Usage: 30.5% | Used Disk Space: 8950.419718144 Gbytes | Preprocessing Latency: 1.921480927019488ms | Model Predict Latency: 29.655959286390217ms | Model  accuracy: 0.35823429541595925 %\n",
      "CPU Usage: 51.8% |CPU Temperature: 0°C% | Memory Usage: 31.0% | Used Disk Space: 8950.508253184 Gbytes | Preprocessing Latency: 1.9216849831601674ms | Model Predict Latency: 29.53172341371194ms | Model  accuracy: 0.19658119658119658 %\n",
      "CPU Usage: 2.0% |CPU Temperature: 0°C% | Memory Usage: 30.4% | Used Disk Space: 8949.638373376 Gbytes | Preprocessing Latency: 1.89622182512908ms | Model Predict Latency: 29.129882292314008ms | Model  accuracy: 0.10909090909090909 %\n",
      "CPU Usage: 2.4% |CPU Temperature: 0°C% | Memory Usage: 30.5% | Used Disk Space: 8949.711323136 Gbytes | Preprocessing Latency: 1.899057427933465ms | Model Predict Latency: 30.233505272096203ms | Model  accuracy: 0.1532258064516129 %\n",
      "CPU Usage: 26.2% |CPU Temperature: 0°C% | Memory Usage: 30.4% | Used Disk Space: 8949.783990272 Gbytes | Preprocessing Latency: 1.902991002148921ms | Model Predict Latency: 29.787588119506836ms | Model  accuracy: 0.2 %\n",
      "CPU Usage: 1.7% |CPU Temperature: 0°C% | Memory Usage: 30.5% | Used Disk Space: 8949.870583808 Gbytes | Preprocessing Latency: 1.966172950113113ms | Model Predict Latency: 30.328205076314635ms | Model  accuracy: 0.288135593220339 %\n",
      "CPU Usage: 1.6% |CPU Temperature: 0°C% | Memory Usage: 30.4% | Used Disk Space: 8949.957865472 Gbytes | Preprocessing Latency: 1.8910007808159282ms | Model Predict Latency: 29.35838442054584ms | Model  accuracy: 0.37410071942446044 %\n",
      "CPU Usage: 20.1% |CPU Temperature: 0°C% | Memory Usage: 30.4% | Used Disk Space: 8950.033993728 Gbytes | Preprocessing Latency: 1.9229137904088538ms | Model Predict Latency: 29.722235942709034ms | Model  accuracy: 0.21379310344827587 %\n",
      "CPU Usage: 1.6% |CPU Temperature: 0°C% | Memory Usage: 30.4% | Used Disk Space: 8950.059999232 Gbytes | Preprocessing Latency: 1.8645819465447913ms | Model Predict Latency: 29.056696377136635ms | Model  accuracy: 0.20814977973568283 %\n",
      "CPU Usage: 21.5% |CPU Temperature: 0°C% | Memory Usage: 30.4% | Used Disk Space: 8950.066958336 Gbytes | Preprocessing Latency: 1.9070362043198639ms | Model Predict Latency: 28.98354000515408ms | Model  accuracy: 0.2222222222222222 %\n",
      "CPU Usage: 1.2% |CPU Temperature: 0°C% | Memory Usage: 30.4% | Used Disk Space: 8950.067556352 Gbytes | Preprocessing Latency: 1.9461832299137747ms | Model Predict Latency: 29.984045028686523ms | Model  accuracy: 0.2 %\n",
      "CPU Usage: 27.2% |CPU Temperature: 0°C% | Memory Usage: 30.4% | Used Disk Space: 8950.067781632 Gbytes | Preprocessing Latency: 1.907346927949173ms | Model Predict Latency: 29.941233959826796ms | Model  accuracy: 0.13971742543171115 %\n",
      "CPU Usage: 2.7% |CPU Temperature: 0°C% | Memory Usage: 30.4% | Used Disk Space: 8950.068666368 Gbytes | Preprocessing Latency: 1.9198360032593178ms | Model Predict Latency: 30.084258448468507ms | Model  accuracy: 0.18491484184914841 %\n",
      "CPU Usage: 52.2% |CPU Temperature: 0°C% | Memory Usage: 30.4% | Used Disk Space: 8950.068867072 Gbytes | Preprocessing Latency: 1.926538160076965ms | Model Predict Latency: 30.014176313051454ms | Model  accuracy: 0.23346303501945526 %\n",
      "CPU Usage: 1.8% |CPU Temperature: 0°C% | Memory Usage: 30.4% | Used Disk Space: 8950.069092352 Gbytes | Preprocessing Latency: 1.88238020161636ms | Model Predict Latency: 29.16750086455786ms | Model  accuracy: 0.2184873949579832 %\n",
      "CPU Usage: 51.6% |CPU Temperature: 0°C% | Memory Usage: 30.4% | Used Disk Space: 8950.069669888 Gbytes | Preprocessing Latency: 1.964200298504019ms | Model Predict Latency: 31.904282329751435ms | Model  accuracy: 0.05755395683453238 %\n",
      "CPU Usage: 2.8% |CPU Temperature: 0°C% | Memory Usage: 30.4% | Used Disk Space: 8950.069833728 Gbytes | Preprocessing Latency: 1.8969559682459205ms | Model Predict Latency: 29.238595152800936ms | Model  accuracy: 0.0660377358490566 %\n",
      "CPU Usage: 1.2% |CPU Temperature: 0°C% | Memory Usage: 30.4% | Used Disk Space: 8950.07053824 Gbytes | Preprocessing Latency: 1.9761671815864772ms | Model Predict Latency: 30.377744417232076ms | Model  accuracy: 0.24818577648766327 %\n"
     ]
    }
   ],
   "source": [
    "#while True:\n",
    "Data=[]\n",
    "all_labels=[]\n",
    "all_pred=[]\n",
    "while time.time() < end_time:\n",
    "    data = subscriber.recv()\n",
    "    # Convert received data in bit(4-bytes) to numpy array\n",
    "    Data_array = np.frombuffer(data, dtype=np.float32).reshape(-1,params['num_channels']+1).T.astype(np.float32)\n",
    "    \n",
    "    label= Data_array[-1,:].astype(np.float32)\n",
    "\n",
    "    Data += [Data_array[:-1,:]]\n",
    "    \n",
    "    if len(Data)>= params['step']//64:\n",
    "        #Data_array=np.expand_dims(Data_array[:-1,:],0)\n",
    "        Data_raw=np.hstack(Data)\n",
    "        \n",
    "        for ch in range(8):\n",
    "            noise=create_noise(np.min(np.hstack(Data)[ch,:])/max_var,np.max(np.hstack(Data)[ch,:])*max_var,np.hstack(Data).shape[1])\n",
    "            Data_raw[ch,:]=Data_raw[ch,:]+noise\n",
    "            \n",
    "        window_EEG=pp.moving_window(window_EEG,Data_raw,params['step'])   \n",
    "        Data=[] # reset Data \n",
    "\n",
    "        tic=time.time()\n",
    "        #preprcessing\n",
    "    \n",
    "        #psd_data=calculate_psd(window_EEG,params).transpose(1,0)\n",
    "        \n",
    "        psd_data=np.zeros([40,8])\n",
    "        for ch in range(params['num_channels']):\n",
    "            psd_data[:,ch]=calculate_psd(window_EEG[ch,:],params)\n",
    "\n",
    "        #psd_data.shape\n",
    "        psd_2D = buffer_psd(psd_2D, psd_data)\n",
    "        psd_2D_aux=np.expand_dims(psd_2D.transpose(2,0,1),0)\n",
    "        \n",
    "        norm_data=psd_2D_aux.transpose(0, 3, 2, 1)\n",
    "        #norm_data=pp.NormMinMax_2D(psd_2D_aux,params['norm_axis'],0,1).transpose(0, 3, 2, 1)\n",
    "        \n",
    "        prep_time+=[time.time()-tic]\n",
    "        \n",
    "\n",
    "        #classification\n",
    "        tic_model=time.time()\n",
    "\n",
    "        y_AI_array = np.roll(y_AI_array,-1)\n",
    "\n",
    "        #model_pred=AI_tf_model.classify_data(np.expand_dims(psd_2D.transpose(1,0,2),0))\n",
    "        model_pred=AI_tf_model.classify_data(norm_data)\n",
    "\n",
    "        if np.argmax(model_pred[0]) == 1 and np.argmax(model_pred[1]) != 0 :\n",
    "        #if np.argmax(model_pred[1]) != 0:\n",
    "    \n",
    "            y_AI_array[-1] = np.argmax(model_pred[1][1:])\n",
    "\n",
    "            AI_time+=[time.time()-tic_model]\n",
    "\n",
    "            #pos processing \n",
    "            y_votting=ppos.majority_voting(y_AI_array, params['num_voting'])\n",
    "            \n",
    "            #all_pred+=[y_votting]\n",
    "            #all_pred+=[y_AI_array[-1]]\n",
    "            all_pred+=[y_votting.item()+1]\n",
    "            all_labels+=[label[-1]]\n",
    "                                           \n",
    "            # Acc  \n",
    "            if (all_pred[-1] == int(label[-1])):\n",
    "                N_correct=N_correct+1\n",
    "            \n",
    "            N_interactions=N_interactions+1\n",
    "\n",
    "    #log results\n",
    "    if time.time() - update_time_duration>= log_update_time:\n",
    "        if N_interactions!= 0:\n",
    "\n",
    "            #reset log time \n",
    "            update_time_duration=time.time()\n",
    "            #comput acc\n",
    "            Acc=N_correct/N_interactions\n",
    "            # update params60*\n",
    "            #print(f'Preprocessing Latency: {round(np.mean(prep_time)*1000,4)}ms | Model Predict Latency: {round(np.mean(AI_time)*1000,4)}ms | Model  accuracy: {Acc}')\n",
    "\n",
    "            ST.set_model_performance(np.mean(prep_time), np.mean(AI_time),Acc)\n",
    "            AI_time=[]\n",
    "            prep_time=[]\n",
    "            #uncomment to save logs and display it \n",
    "            ST.log_info()\n",
    "            \n",
    "            N_correct=0\n",
    "            N_interactions=0\n",
    "        \n",
    "print(\"Média de tempo no pré-processamento\",np.array(prep_time).mean() *1000,'ms')\n",
    "print(\"Máximo tempo no pré-processamento\",np.array(prep_time).max() *1000,'ms')\n",
    "\n",
    "print(\"Média de tempo do modelo AI\",np.array(AI_time)[10:].mean() *1000,'ms')\n",
    "print(\"Máximo tempo do modelo AI\",np.array(AI_time)[10:].max() *1000,'ms')\n",
    "\n",
    "subscriber.close()\n",
    "context.term()"
   ]
  },
  {
   "cell_type": "code",
   "execution_count": null,
   "metadata": {},
   "outputs": [],
   "source": []
  }
 ],
 "metadata": {
  "kernelspec": {
   "display_name": "Python 3 (ipykernel)",
   "language": "python",
   "name": "python3"
  },
  "language_info": {
   "codemirror_mode": {
    "name": "ipython",
    "version": 3
   },
   "file_extension": ".py",
   "mimetype": "text/x-python",
   "name": "python",
   "nbconvert_exporter": "python",
   "pygments_lexer": "ipython3",
   "version": "3.8.10"
  }
 },
 "nbformat": 4,
 "nbformat_minor": 4
}
