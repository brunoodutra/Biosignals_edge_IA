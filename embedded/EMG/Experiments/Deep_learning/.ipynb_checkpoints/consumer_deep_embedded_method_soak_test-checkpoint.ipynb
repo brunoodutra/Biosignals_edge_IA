{
 "cells": [
  {
   "cell_type": "code",
   "execution_count": 1,
   "metadata": {},
   "outputs": [],
   "source": [
    "import os, sys\n",
    "import numpy as np\n",
    "import time\n",
    "import pickle\n",
    "import matplotlib.pyplot as plt\n",
    "########################################\n",
    "#custom libraries\n",
    "sys.path.append('/home/bruno.dutra/BioProject/fx_bios_ia/embedded/data_processing') # Path to fx_bios_ia/pprocessing directory\n",
    "from processing import preprocessing\n",
    "from processing import posprocessing\n",
    "from processing import FeaturesExtract\n",
    "\n",
    "#### soak test libraries\n",
    "sys.path.append('/home/bruno.dutra/BioProject/fx_bios_ia/embedded/soak_test') # Path to fx_bios_ia/embedded/soak_test directory\n",
    "from log_soak_test import soak_test\n",
    "\n",
    "########################################\n",
    "#protocol communication liraries\n",
    "import zmq\n",
    "import logging\n",
    "LOG_LEVEL=logging.DEBUG #change to logging.DEBUG to enable print logs\n",
    "ZEROMQ_SOCKET=\"tcp://127.0.0.1:53421\"\n",
    "import time\n",
    "#### embedded model libraries\n",
    "sys.path.append('./embedded') # Path to fx_bios_ia/embedded directory\n",
    "from Embedded_Model import Embedded_Model"
   ]
  },
  {
   "cell_type": "markdown",
   "metadata": {},
   "source": [
    "##  EDGE AI Deep learning model"
   ]
  },
  {
   "cell_type": "markdown",
   "metadata": {},
   "source": [
    "#### Signal Processing functions"
   ]
  },
  {
   "cell_type": "code",
   "execution_count": 2,
   "metadata": {},
   "outputs": [],
   "source": [
    "pp = preprocessing(axis=1)\n",
    "ppos=posprocessing()\n",
    "features =FeaturesExtract(axis=2)"
   ]
  },
  {
   "cell_type": "markdown",
   "metadata": {},
   "source": [
    "#### Params and initial conditions"
   ]
  },
  {
   "cell_type": "code",
   "execution_count": 3,
   "metadata": {},
   "outputs": [],
   "source": [
    "Ma_length=31\n",
    "window_length=128\n",
    "tke_length=1\n",
    "img_width=8\n",
    "img_height=8\n",
    "channels=64\n",
    "window_step=64\n",
    "\n",
    "\n",
    "window_emg= np.random.uniform(0.00001, 0,size=(channels,window_length))\n",
    "# initializing variables to initial conditions\n",
    "data_prev = window_emg[:,-Ma_length-1:].copy()\n",
    "prep_time=[]\n",
    "AI_time=[]\n",
    "all_emg_data=[]\n",
    "n_voting=9\n",
    "y_AI_array = np.zeros([n_voting])"
   ]
  },
  {
   "cell_type": "markdown",
   "metadata": {},
   "source": [
    "#### Load the ML model"
   ]
  },
  {
   "cell_type": "code",
   "execution_count": 4,
   "metadata": {},
   "outputs": [
    {
     "name": "stderr",
     "output_type": "stream",
     "text": [
      "INFO: Created TensorFlow Lite XNNPACK delegate for CPU.\n"
     ]
    }
   ],
   "source": [
    "AI_tf_model=Embedded_Model('model/EMG_65HDsEMG_2D_CNN_128f_64ch_SCE_normminmax_bysample_noreshape_4_2SGD_0')"
   ]
  },
  {
   "cell_type": "markdown",
   "metadata": {},
   "source": [
    "#### Soak test log settings "
   ]
  },
  {
   "cell_type": "markdown",
   "metadata": {},
   "source": [
    "#### Communication protocol settings"
   ]
  },
  {
   "cell_type": "code",
   "execution_count": 5,
   "metadata": {},
   "outputs": [],
   "source": [
    "context = zmq.Context()\n",
    "subscriber = context.socket(zmq.SUB)\n",
    "subscriber.connect(ZEROMQ_SOCKET)\n",
    "subscriber.setsockopt(zmq.SUBSCRIBE, b\"\")"
   ]
  },
  {
   "cell_type": "markdown",
   "metadata": {},
   "source": [
    "### Main-loop "
   ]
  },
  {
   "cell_type": "markdown",
   "metadata": {},
   "source": [
    "#### Soakt test time settings\n"
   ]
  },
  {
   "cell_type": "code",
   "execution_count": 6,
   "metadata": {},
   "outputs": [],
   "source": [
    "#Acc variables\n",
    "N_correct=0\n",
    "N_interactions=0\n",
    "\n",
    "# log updates time\n",
    "log_update_time= 20 #min\n",
    "\n",
    "# soak test total time\n",
    "duration_time= 6 # hour\n",
    "end_time= time.time()+ 60 * 60 * duration_time\n",
    "\n",
    "update_time_duration=time.time()\n",
    "classes=[0, 13, 14, 17, 20, 36, 58, 59, 63, 64]"
   ]
  },
  {
   "cell_type": "code",
   "execution_count": 7,
   "metadata": {},
   "outputs": [],
   "source": [
    "log_name=f'logs/system_monitor_deep_embedded_model_during_{duration_time}_hours'\n",
    "ST=soak_test(log_name=log_name)"
   ]
  },
  {
   "cell_type": "markdown",
   "metadata": {},
   "source": [
    "#### AI model in loop"
   ]
  },
  {
   "cell_type": "code",
   "execution_count": 8,
   "metadata": {},
   "outputs": [
    {
     "ename": "KeyboardInterrupt",
     "evalue": "",
     "output_type": "error",
     "traceback": [
      "\u001b[0;31m---------------------------------------------------------------------------\u001b[0m",
      "\u001b[0;31mKeyboardInterrupt\u001b[0m                         Traceback (most recent call last)",
      "Cell \u001b[0;32mIn[8], line 3\u001b[0m\n\u001b[1;32m      1\u001b[0m \u001b[39m#while True:\u001b[39;00m\n\u001b[1;32m      2\u001b[0m \u001b[39mwhile\u001b[39;00m time\u001b[39m.\u001b[39mtime() \u001b[39m<\u001b[39m end_time:\n\u001b[0;32m----> 3\u001b[0m     data \u001b[39m=\u001b[39m subscriber\u001b[39m.\u001b[39;49mrecv()\n\u001b[1;32m      4\u001b[0m     \u001b[39m# Convert received data in bit(4-bytes) to numpy array\u001b[39;00m\n\u001b[1;32m      5\u001b[0m     Data_array \u001b[39m=\u001b[39m np\u001b[39m.\u001b[39mfrombuffer(data, dtype\u001b[39m=\u001b[39mnp\u001b[39m.\u001b[39mfloat32)\u001b[39m.\u001b[39mreshape(window_step,channels\u001b[39m+\u001b[39m\u001b[39m1\u001b[39m)\u001b[39m.\u001b[39mT\n",
      "File \u001b[0;32mzmq/backend/cython/socket.pyx:805\u001b[0m, in \u001b[0;36mzmq.backend.cython.socket.Socket.recv\u001b[0;34m()\u001b[0m\n",
      "File \u001b[0;32mzmq/backend/cython/socket.pyx:841\u001b[0m, in \u001b[0;36mzmq.backend.cython.socket.Socket.recv\u001b[0;34m()\u001b[0m\n",
      "File \u001b[0;32mzmq/backend/cython/socket.pyx:194\u001b[0m, in \u001b[0;36mzmq.backend.cython.socket._recv_copy\u001b[0;34m()\u001b[0m\n",
      "File \u001b[0;32m~/BioProject/EDGE_AI/soak_test/EMG/AI_NPU/lib/python3.8/site-packages/zmq/backend/cython/checkrc.pxd:13\u001b[0m, in \u001b[0;36mzmq.backend.cython.checkrc._check_rc\u001b[0;34m()\u001b[0m\n",
      "\u001b[0;31mKeyboardInterrupt\u001b[0m: "
     ]
    }
   ],
   "source": [
    "#while True:\n",
    "while time.time() < end_time:\n",
    "    data = subscriber.recv()\n",
    "    # Convert received data in bit(4-bytes) to numpy array\n",
    "    Data_array = np.frombuffer(data, dtype=np.float32).reshape(window_step,channels+1).T\n",
    "    \n",
    "    label= Data_array[-1,:]\n",
    "    \n",
    "    Data_array=np.expand_dims(Data_array[:-1,:],0)\n",
    "    \n",
    "    # windowing \n",
    "    window_emg=pp.moving_window(window_emg,Data_array,window_step)\n",
    "\n",
    "    tic=time.time()\n",
    "    #preprcessing\n",
    "\n",
    "    emg_ret=pp.retification(window_emg)\n",
    "    emg_ret= np.concatenate((data_prev, emg_ret),axis=1)\n",
    "    data_prev = emg_ret[:,-Ma_length-1:].copy()\n",
    "\n",
    "    emg_tke=pp.TKE(emg_ret)\n",
    "    emg_MA=pp.MAfilter(emg_tke,N=Ma_length)\n",
    "    \n",
    "    emg_norm=pp.NormMinMax(np.expand_dims(emg_MA,0),new_axis=1)\n",
    "    \n",
    "    emg_2d_reshape=pp.DataReshape(np.expand_dims(emg_norm,0),(img_height,img_width,window_length))# reshape data to 2D (1,8,8,128)\n",
    "\n",
    "    prep_time+=[time.time()-tic]\n",
    "    \n",
    "\n",
    "    #classification\n",
    "    tic_model=time.time()\n",
    "\n",
    "    y_AI_array = np.roll(y_AI_array,-1)\n",
    "    \n",
    "    y_AI_array[-1] = np.argmax(AI_tf_model.classify_data(emg_2d_reshape))\n",
    "\n",
    "    AI_time+=[time.time()-tic_model]\n",
    "\n",
    "    #pos processing \n",
    "    y_votting=ppos.majority_voting(y_AI_array, n_voting)\n",
    "\n",
    "    # Acc  \n",
    "    if y_votting == np.where(label[-1]==classes)[0]:\n",
    "        N_correct=N_correct+1\n",
    "    \n",
    "    N_interactions=N_interactions+1\n",
    "\n",
    "    #log results\n",
    "    if time.time() - update_time_duration>= log_update_time:\n",
    "        #reset log time \n",
    "        update_time_duration=time.time()\n",
    "        #comput acc\n",
    "        Acc=N_correct/N_interactions\n",
    "        # update params60*\n",
    "        ST.set_model_performance(np.mean(prep_time), np.mean(AI_time),Acc)\n",
    "        AI_time=[]\n",
    "        prep_time=[]\n",
    "        # save params \n",
    "        ST.log_info()\n",
    "        \n",
    "        N_correct=0\n",
    "        N_interactions=0\n",
    "\n",
    "subscriber.close()\n",
    "context.term()"
   ]
  }
 ],
 "metadata": {
  "kernelspec": {
   "display_name": "Python 3 (ipykernel)",
   "language": "python",
   "name": "python3"
  },
  "language_info": {
   "codemirror_mode": {
    "name": "ipython",
    "version": 3
   },
   "file_extension": ".py",
   "mimetype": "text/x-python",
   "name": "python",
   "nbconvert_exporter": "python",
   "pygments_lexer": "ipython3",
   "version": "3.8.10"
  }
 },
 "nbformat": 4,
 "nbformat_minor": 2
}
